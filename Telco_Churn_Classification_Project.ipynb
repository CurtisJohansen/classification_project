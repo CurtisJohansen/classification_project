{
 "cells": [
  {
   "cell_type": "markdown",
   "metadata": {},
   "source": [
    "# Classification Project - Telco Churn "
   ]
  },
  {
   "cell_type": "markdown",
   "metadata": {},
   "source": [
    "## Project Goal"
   ]
  },
  {
   "cell_type": "markdown",
   "metadata": {},
   "source": [
    "- Find drivers for customer churn at Telco\n",
    "- Construct a ML classification model that accurately predicts customer churn\n",
    "- Document your process well enough to be presented or read like a report"
   ]
  },
  {
   "cell_type": "markdown",
   "metadata": {},
   "source": [
    "### Executive Summary"
   ]
  },
  {
   "cell_type": "markdown",
   "metadata": {},
   "source": [
    "Findings:\n",
    "- Drivers of churn were contract type, payment type and total charges\n",
    "- Analysis showed that churn rate went down as tenure increases\n",
    "- Classification model predicts whether a customer will churn with 78% accuracy\n",
    "\n",
    "Recommendations:\n",
    "- Offer incentivise to enroll in automatic payment\n",
    "- Offer incentivise to enroll in a yearly contract\n",
    "- Work with marketing to test offers to increase retention, e.g. Special promo during customer cancelation\n",
    "- A/B channel testing\n",
    "- Work with UX to determine if the customer onboarding process simplifies the automatic payment types\n"
   ]
  },
  {
   "cell_type": "markdown",
   "metadata": {},
   "source": [
    "# Imports"
   ]
  },
  {
   "cell_type": "code",
   "execution_count": 1,
   "metadata": {},
   "outputs": [],
   "source": [
    "# turn off warnings\n",
    "import warnings\n",
    "warnings.filterwarnings(\"ignore\")\n",
    "\n",
    "# helper function imports\n",
    "from acquire import get_telco_project, get_telco_churn, get_connection\n",
    "from prepare import clean_telco_churn, telco_churn_split, prep_telco_churn\n",
    "\n",
    "import pandas as pd\n",
    "import numpy as np\n",
    "from scipy import stats\n",
    "\n",
    "# visualizing\n",
    "import matplotlib.pyplot as plt\n",
    "import seaborn as sns\n",
    "\n",
    "# preparing\n",
    "from sklearn.model_selection import train_test_split\n",
    "from sklearn.impute import SimpleImputer\n",
    "\n",
    "# modeling/evaluating\n",
    "from sklearn.linear_model import LogisticRegression\n",
    "from sklearn.tree import DecisionTreeClassifier\n",
    "from sklearn.ensemble import RandomForestClassifier\n",
    "from sklearn.metrics import classification_report, confusion_matrix, precision_score, recall_score, accuracy_score"
   ]
  },
  {
   "cell_type": "markdown",
   "metadata": {},
   "source": [
    "# Data Acquisition"
   ]
  },
  {
   "cell_type": "code",
   "execution_count": 2,
   "metadata": {},
   "outputs": [],
   "source": [
    "# acquire function to obtain dataframe\n",
    "\n",
    "df = get_telco_project()"
   ]
  },
  {
   "cell_type": "code",
   "execution_count": 3,
   "metadata": {},
   "outputs": [
    {
     "data": {
      "text/html": [
       "<div>\n",
       "<style scoped>\n",
       "    .dataframe tbody tr th:only-of-type {\n",
       "        vertical-align: middle;\n",
       "    }\n",
       "\n",
       "    .dataframe tbody tr th {\n",
       "        vertical-align: top;\n",
       "    }\n",
       "\n",
       "    .dataframe thead th {\n",
       "        text-align: right;\n",
       "    }\n",
       "</style>\n",
       "<table border=\"1\" class=\"dataframe\">\n",
       "  <thead>\n",
       "    <tr style=\"text-align: right;\">\n",
       "      <th></th>\n",
       "      <th>payment_type_id</th>\n",
       "      <th>internet_service_type_id</th>\n",
       "      <th>contract_type_id</th>\n",
       "      <th>customer_id</th>\n",
       "      <th>gender</th>\n",
       "      <th>senior_citizen</th>\n",
       "      <th>partner</th>\n",
       "      <th>dependents</th>\n",
       "      <th>tenure</th>\n",
       "      <th>phone_service</th>\n",
       "      <th>...</th>\n",
       "      <th>tech_support</th>\n",
       "      <th>streaming_tv</th>\n",
       "      <th>streaming_movies</th>\n",
       "      <th>paperless_billing</th>\n",
       "      <th>monthly_charges</th>\n",
       "      <th>total_charges</th>\n",
       "      <th>churn</th>\n",
       "      <th>contract_type</th>\n",
       "      <th>internet_service_type</th>\n",
       "      <th>payment_type</th>\n",
       "    </tr>\n",
       "  </thead>\n",
       "  <tbody>\n",
       "    <tr>\n",
       "      <th>0</th>\n",
       "      <td>2</td>\n",
       "      <td>1</td>\n",
       "      <td>3</td>\n",
       "      <td>0016-QLJIS</td>\n",
       "      <td>Female</td>\n",
       "      <td>0</td>\n",
       "      <td>Yes</td>\n",
       "      <td>Yes</td>\n",
       "      <td>65</td>\n",
       "      <td>Yes</td>\n",
       "      <td>...</td>\n",
       "      <td>Yes</td>\n",
       "      <td>Yes</td>\n",
       "      <td>Yes</td>\n",
       "      <td>Yes</td>\n",
       "      <td>90.45</td>\n",
       "      <td>5957.9</td>\n",
       "      <td>No</td>\n",
       "      <td>Two year</td>\n",
       "      <td>DSL</td>\n",
       "      <td>Mailed check</td>\n",
       "    </tr>\n",
       "    <tr>\n",
       "      <th>1</th>\n",
       "      <td>4</td>\n",
       "      <td>1</td>\n",
       "      <td>3</td>\n",
       "      <td>0017-DINOC</td>\n",
       "      <td>Male</td>\n",
       "      <td>0</td>\n",
       "      <td>No</td>\n",
       "      <td>No</td>\n",
       "      <td>54</td>\n",
       "      <td>No</td>\n",
       "      <td>...</td>\n",
       "      <td>Yes</td>\n",
       "      <td>Yes</td>\n",
       "      <td>No</td>\n",
       "      <td>No</td>\n",
       "      <td>45.20</td>\n",
       "      <td>2460.55</td>\n",
       "      <td>No</td>\n",
       "      <td>Two year</td>\n",
       "      <td>DSL</td>\n",
       "      <td>Credit card (automatic)</td>\n",
       "    </tr>\n",
       "    <tr>\n",
       "      <th>2</th>\n",
       "      <td>3</td>\n",
       "      <td>1</td>\n",
       "      <td>3</td>\n",
       "      <td>0019-GFNTW</td>\n",
       "      <td>Female</td>\n",
       "      <td>0</td>\n",
       "      <td>No</td>\n",
       "      <td>No</td>\n",
       "      <td>56</td>\n",
       "      <td>No</td>\n",
       "      <td>...</td>\n",
       "      <td>Yes</td>\n",
       "      <td>No</td>\n",
       "      <td>No</td>\n",
       "      <td>No</td>\n",
       "      <td>45.05</td>\n",
       "      <td>2560.1</td>\n",
       "      <td>No</td>\n",
       "      <td>Two year</td>\n",
       "      <td>DSL</td>\n",
       "      <td>Bank transfer (automatic)</td>\n",
       "    </tr>\n",
       "    <tr>\n",
       "      <th>3</th>\n",
       "      <td>4</td>\n",
       "      <td>1</td>\n",
       "      <td>3</td>\n",
       "      <td>0056-EPFBG</td>\n",
       "      <td>Male</td>\n",
       "      <td>0</td>\n",
       "      <td>Yes</td>\n",
       "      <td>Yes</td>\n",
       "      <td>20</td>\n",
       "      <td>No</td>\n",
       "      <td>...</td>\n",
       "      <td>Yes</td>\n",
       "      <td>No</td>\n",
       "      <td>No</td>\n",
       "      <td>Yes</td>\n",
       "      <td>39.40</td>\n",
       "      <td>825.4</td>\n",
       "      <td>No</td>\n",
       "      <td>Two year</td>\n",
       "      <td>DSL</td>\n",
       "      <td>Credit card (automatic)</td>\n",
       "    </tr>\n",
       "    <tr>\n",
       "      <th>4</th>\n",
       "      <td>3</td>\n",
       "      <td>1</td>\n",
       "      <td>3</td>\n",
       "      <td>0078-XZMHT</td>\n",
       "      <td>Male</td>\n",
       "      <td>0</td>\n",
       "      <td>Yes</td>\n",
       "      <td>No</td>\n",
       "      <td>72</td>\n",
       "      <td>Yes</td>\n",
       "      <td>...</td>\n",
       "      <td>Yes</td>\n",
       "      <td>Yes</td>\n",
       "      <td>Yes</td>\n",
       "      <td>Yes</td>\n",
       "      <td>85.15</td>\n",
       "      <td>6316.2</td>\n",
       "      <td>No</td>\n",
       "      <td>Two year</td>\n",
       "      <td>DSL</td>\n",
       "      <td>Bank transfer (automatic)</td>\n",
       "    </tr>\n",
       "  </tbody>\n",
       "</table>\n",
       "<p>5 rows × 24 columns</p>\n",
       "</div>"
      ],
      "text/plain": [
       "   payment_type_id  internet_service_type_id  contract_type_id customer_id  \\\n",
       "0                2                         1                 3  0016-QLJIS   \n",
       "1                4                         1                 3  0017-DINOC   \n",
       "2                3                         1                 3  0019-GFNTW   \n",
       "3                4                         1                 3  0056-EPFBG   \n",
       "4                3                         1                 3  0078-XZMHT   \n",
       "\n",
       "   gender  senior_citizen partner dependents  tenure phone_service  ...  \\\n",
       "0  Female               0     Yes        Yes      65           Yes  ...   \n",
       "1    Male               0      No         No      54            No  ...   \n",
       "2  Female               0      No         No      56            No  ...   \n",
       "3    Male               0     Yes        Yes      20            No  ...   \n",
       "4    Male               0     Yes         No      72           Yes  ...   \n",
       "\n",
       "  tech_support streaming_tv streaming_movies paperless_billing  \\\n",
       "0          Yes          Yes              Yes               Yes   \n",
       "1          Yes          Yes               No                No   \n",
       "2          Yes           No               No                No   \n",
       "3          Yes           No               No               Yes   \n",
       "4          Yes          Yes              Yes               Yes   \n",
       "\n",
       "  monthly_charges total_charges churn contract_type  internet_service_type  \\\n",
       "0           90.45        5957.9    No      Two year                    DSL   \n",
       "1           45.20       2460.55    No      Two year                    DSL   \n",
       "2           45.05        2560.1    No      Two year                    DSL   \n",
       "3           39.40         825.4    No      Two year                    DSL   \n",
       "4           85.15        6316.2    No      Two year                    DSL   \n",
       "\n",
       "                payment_type  \n",
       "0               Mailed check  \n",
       "1    Credit card (automatic)  \n",
       "2  Bank transfer (automatic)  \n",
       "3    Credit card (automatic)  \n",
       "4  Bank transfer (automatic)  \n",
       "\n",
       "[5 rows x 24 columns]"
      ]
     },
     "execution_count": 3,
     "metadata": {},
     "output_type": "execute_result"
    }
   ],
   "source": [
    "# look at dataframe\n",
    "\n",
    "df.head()"
   ]
  },
  {
   "cell_type": "code",
   "execution_count": 4,
   "metadata": {},
   "outputs": [
    {
     "name": "stdout",
     "output_type": "stream",
     "text": [
      "This dataframe has 7043 rows and 24 columns.\n",
      "____________________________________________\n",
      "\n",
      "Looking at the data types:\n",
      "--------------------------\n",
      "\n",
      "<class 'pandas.core.frame.DataFrame'>\n",
      "Int64Index: 7043 entries, 0 to 7042\n",
      "Data columns (total 24 columns):\n",
      " #   Column                    Non-Null Count  Dtype  \n",
      "---  ------                    --------------  -----  \n",
      " 0   payment_type_id           7043 non-null   int64  \n",
      " 1   internet_service_type_id  7043 non-null   int64  \n",
      " 2   contract_type_id          7043 non-null   int64  \n",
      " 3   customer_id               7043 non-null   object \n",
      " 4   gender                    7043 non-null   object \n",
      " 5   senior_citizen            7043 non-null   int64  \n",
      " 6   partner                   7043 non-null   object \n",
      " 7   dependents                7043 non-null   object \n",
      " 8   tenure                    7043 non-null   int64  \n",
      " 9   phone_service             7043 non-null   object \n",
      " 10  multiple_lines            7043 non-null   object \n",
      " 11  online_security           7043 non-null   object \n",
      " 12  online_backup             7043 non-null   object \n",
      " 13  device_protection         7043 non-null   object \n",
      " 14  tech_support              7043 non-null   object \n",
      " 15  streaming_tv              7043 non-null   object \n",
      " 16  streaming_movies          7043 non-null   object \n",
      " 17  paperless_billing         7043 non-null   object \n",
      " 18  monthly_charges           7043 non-null   float64\n",
      " 19  total_charges             7043 non-null   object \n",
      " 20  churn                     7043 non-null   object \n",
      " 21  contract_type             7043 non-null   object \n",
      " 22  internet_service_type     7043 non-null   object \n",
      " 23  payment_type              7043 non-null   object \n",
      "dtypes: float64(1), int64(5), object(18)\n",
      "memory usage: 1.3+ MB\n",
      "None\n"
     ]
    }
   ],
   "source": [
    "# summarize the dataframe\n",
    "\n",
    "print(f'This dataframe has {df.shape[0]} rows and {df.shape[1]} columns.')\n",
    "print('____________________________________________')\n",
    "print('')\n",
    "print('Looking at the data types:')\n",
    "print('--------------------------')\n",
    "print('')\n",
    "print(df.info())"
   ]
  },
  {
   "cell_type": "markdown",
   "metadata": {},
   "source": [
    "# Data Preparation"
   ]
  },
  {
   "cell_type": "markdown",
   "metadata": {},
   "source": [
    "- Create dummies and drop redundant columns\n",
    "- Create new column \"is_female\" -- Female = 1, Male = 0\n",
    "- Service details (online backup, tech_support, etc.): Change Yes/no into 1/0\n",
    "- Churn: Change Yes/no into 1/0\n",
    "- Partner and dependents: Change Yes/no to 1/0\n",
    "- 11 blank values in total_charges, represented only new customers w/less than 1 month of tenure, replaced the blanks with a 0 (float)\n",
    "- Create new column is_auto_pay - identifys if customer pays automatically or manually. 1 is True, 0 is False"
   ]
  },
  {
   "cell_type": "code",
   "execution_count": 5,
   "metadata": {},
   "outputs": [
    {
     "data": {
      "text/plain": [
       "payment_type_id             0\n",
       "internet_service_type_id    0\n",
       "contract_type_id            0\n",
       "customer_id                 0\n",
       "gender                      0\n",
       "senior_citizen              0\n",
       "partner                     0\n",
       "dependents                  0\n",
       "tenure                      0\n",
       "phone_service               0\n",
       "multiple_lines              0\n",
       "online_security             0\n",
       "online_backup               0\n",
       "device_protection           0\n",
       "tech_support                0\n",
       "streaming_tv                0\n",
       "streaming_movies            0\n",
       "paperless_billing           0\n",
       "monthly_charges             0\n",
       "total_charges               0\n",
       "churn                       0\n",
       "contract_type               0\n",
       "internet_service_type       0\n",
       "payment_type                0\n",
       "dtype: int64"
      ]
     },
     "execution_count": 5,
     "metadata": {},
     "output_type": "execute_result"
    }
   ],
   "source": [
    "# looking for missing values\n",
    "\n",
    "df.isna().sum()"
   ]
  },
  {
   "cell_type": "markdown",
   "metadata": {},
   "source": [
    "### **Split our data**"
   ]
  },
  {
   "cell_type": "code",
   "execution_count": 6,
   "metadata": {},
   "outputs": [
    {
     "name": "stdout",
     "output_type": "stream",
     "text": [
      "The shape of the train dataset is: (3943, 32)\n",
      "The shape of the validate dataset is: (1691, 32)\n",
      "The shape of the test dataset is: (1409, 32)\n"
     ]
    }
   ],
   "source": [
    "train, validate, test = prep_telco_churn(df)\n",
    "\n",
    "print(f'The shape of the train dataset is: {train.shape}')\n",
    "print(f'The shape of the validate dataset is: {validate.shape}')\n",
    "print(f'The shape of the test dataset is: {test.shape}')"
   ]
  },
  {
   "cell_type": "markdown",
   "metadata": {},
   "source": [
    "Train dataset will be used for explorations and modeling before moving on to validate and test."
   ]
  },
  {
   "cell_type": "code",
   "execution_count": 7,
   "metadata": {},
   "outputs": [
    {
     "data": {
      "text/html": [
       "<div>\n",
       "<style scoped>\n",
       "    .dataframe tbody tr th:only-of-type {\n",
       "        vertical-align: middle;\n",
       "    }\n",
       "\n",
       "    .dataframe tbody tr th {\n",
       "        vertical-align: top;\n",
       "    }\n",
       "\n",
       "    .dataframe thead th {\n",
       "        text-align: right;\n",
       "    }\n",
       "</style>\n",
       "<table border=\"1\" class=\"dataframe\">\n",
       "  <thead>\n",
       "    <tr style=\"text-align: right;\">\n",
       "      <th></th>\n",
       "      <th>customer_id</th>\n",
       "      <th>senior_citizen</th>\n",
       "      <th>partner</th>\n",
       "      <th>dependents</th>\n",
       "      <th>tenure</th>\n",
       "      <th>phone_service</th>\n",
       "      <th>multiple_lines</th>\n",
       "      <th>online_security</th>\n",
       "      <th>online_backup</th>\n",
       "      <th>device_protection</th>\n",
       "      <th>...</th>\n",
       "      <th>dsl</th>\n",
       "      <th>fiber_optic</th>\n",
       "      <th>no_internet</th>\n",
       "      <th>monthly</th>\n",
       "      <th>one_year</th>\n",
       "      <th>two_year</th>\n",
       "      <th>bank_transfer</th>\n",
       "      <th>credit_card</th>\n",
       "      <th>electronic_check</th>\n",
       "      <th>mailed_check</th>\n",
       "    </tr>\n",
       "  </thead>\n",
       "  <tbody>\n",
       "    <tr>\n",
       "      <th>5642</th>\n",
       "      <td>1982-FEBTD</td>\n",
       "      <td>0</td>\n",
       "      <td>1</td>\n",
       "      <td>1</td>\n",
       "      <td>23</td>\n",
       "      <td>1</td>\n",
       "      <td>1</td>\n",
       "      <td>0</td>\n",
       "      <td>0</td>\n",
       "      <td>0</td>\n",
       "      <td>...</td>\n",
       "      <td>0</td>\n",
       "      <td>0</td>\n",
       "      <td>1</td>\n",
       "      <td>0</td>\n",
       "      <td>0</td>\n",
       "      <td>1</td>\n",
       "      <td>0</td>\n",
       "      <td>1</td>\n",
       "      <td>0</td>\n",
       "      <td>0</td>\n",
       "    </tr>\n",
       "    <tr>\n",
       "      <th>3338</th>\n",
       "      <td>8982-NHAVY</td>\n",
       "      <td>0</td>\n",
       "      <td>0</td>\n",
       "      <td>0</td>\n",
       "      <td>27</td>\n",
       "      <td>1</td>\n",
       "      <td>1</td>\n",
       "      <td>0</td>\n",
       "      <td>0</td>\n",
       "      <td>1</td>\n",
       "      <td>...</td>\n",
       "      <td>0</td>\n",
       "      <td>1</td>\n",
       "      <td>0</td>\n",
       "      <td>0</td>\n",
       "      <td>1</td>\n",
       "      <td>0</td>\n",
       "      <td>1</td>\n",
       "      <td>0</td>\n",
       "      <td>0</td>\n",
       "      <td>0</td>\n",
       "    </tr>\n",
       "    <tr>\n",
       "      <th>4273</th>\n",
       "      <td>4115-NZRKS</td>\n",
       "      <td>1</td>\n",
       "      <td>0</td>\n",
       "      <td>0</td>\n",
       "      <td>7</td>\n",
       "      <td>1</td>\n",
       "      <td>0</td>\n",
       "      <td>0</td>\n",
       "      <td>0</td>\n",
       "      <td>0</td>\n",
       "      <td>...</td>\n",
       "      <td>0</td>\n",
       "      <td>1</td>\n",
       "      <td>0</td>\n",
       "      <td>1</td>\n",
       "      <td>0</td>\n",
       "      <td>0</td>\n",
       "      <td>0</td>\n",
       "      <td>0</td>\n",
       "      <td>1</td>\n",
       "      <td>0</td>\n",
       "    </tr>\n",
       "    <tr>\n",
       "      <th>2382</th>\n",
       "      <td>9633-DENPU</td>\n",
       "      <td>0</td>\n",
       "      <td>1</td>\n",
       "      <td>0</td>\n",
       "      <td>47</td>\n",
       "      <td>1</td>\n",
       "      <td>0</td>\n",
       "      <td>0</td>\n",
       "      <td>1</td>\n",
       "      <td>0</td>\n",
       "      <td>...</td>\n",
       "      <td>1</td>\n",
       "      <td>0</td>\n",
       "      <td>0</td>\n",
       "      <td>1</td>\n",
       "      <td>0</td>\n",
       "      <td>0</td>\n",
       "      <td>1</td>\n",
       "      <td>0</td>\n",
       "      <td>0</td>\n",
       "      <td>0</td>\n",
       "    </tr>\n",
       "    <tr>\n",
       "      <th>2655</th>\n",
       "      <td>5693-PIPCS</td>\n",
       "      <td>0</td>\n",
       "      <td>0</td>\n",
       "      <td>0</td>\n",
       "      <td>41</td>\n",
       "      <td>1</td>\n",
       "      <td>0</td>\n",
       "      <td>0</td>\n",
       "      <td>1</td>\n",
       "      <td>0</td>\n",
       "      <td>...</td>\n",
       "      <td>0</td>\n",
       "      <td>1</td>\n",
       "      <td>0</td>\n",
       "      <td>0</td>\n",
       "      <td>0</td>\n",
       "      <td>1</td>\n",
       "      <td>0</td>\n",
       "      <td>1</td>\n",
       "      <td>0</td>\n",
       "      <td>0</td>\n",
       "    </tr>\n",
       "  </tbody>\n",
       "</table>\n",
       "<p>5 rows × 32 columns</p>\n",
       "</div>"
      ],
      "text/plain": [
       "     customer_id  senior_citizen  partner  dependents  tenure  phone_service  \\\n",
       "5642  1982-FEBTD               0        1           1      23              1   \n",
       "3338  8982-NHAVY               0        0           0      27              1   \n",
       "4273  4115-NZRKS               1        0           0       7              1   \n",
       "2382  9633-DENPU               0        1           0      47              1   \n",
       "2655  5693-PIPCS               0        0           0      41              1   \n",
       "\n",
       "      multiple_lines  online_security  online_backup  device_protection  ...  \\\n",
       "5642               1                0              0                  0  ...   \n",
       "3338               1                0              0                  1  ...   \n",
       "4273               0                0              0                  0  ...   \n",
       "2382               0                0              1                  0  ...   \n",
       "2655               0                0              1                  0  ...   \n",
       "\n",
       "      dsl  fiber_optic  no_internet  monthly  one_year  two_year  \\\n",
       "5642    0            0            1        0         0         1   \n",
       "3338    0            1            0        0         1         0   \n",
       "4273    0            1            0        1         0         0   \n",
       "2382    1            0            0        1         0         0   \n",
       "2655    0            1            0        0         0         1   \n",
       "\n",
       "      bank_transfer credit_card electronic_check mailed_check  \n",
       "5642              0           1                0            0  \n",
       "3338              1           0                0            0  \n",
       "4273              0           0                1            0  \n",
       "2382              1           0                0            0  \n",
       "2655              0           1                0            0  \n",
       "\n",
       "[5 rows x 32 columns]"
      ]
     },
     "execution_count": 7,
     "metadata": {},
     "output_type": "execute_result"
    }
   ],
   "source": [
    "# look at train dataframe.\n",
    "\n",
    "train.head()"
   ]
  },
  {
   "cell_type": "code",
   "execution_count": 8,
   "metadata": {},
   "outputs": [
    {
     "name": "stdout",
     "output_type": "stream",
     "text": [
      "<class 'pandas.core.frame.DataFrame'>\n",
      "Int64Index: 3943 entries, 5642 to 6840\n",
      "Data columns (total 32 columns):\n",
      " #   Column                 Non-Null Count  Dtype  \n",
      "---  ------                 --------------  -----  \n",
      " 0   customer_id            3943 non-null   object \n",
      " 1   senior_citizen         3943 non-null   int64  \n",
      " 2   partner                3943 non-null   int64  \n",
      " 3   dependents             3943 non-null   int64  \n",
      " 4   tenure                 3943 non-null   int64  \n",
      " 5   phone_service          3943 non-null   int64  \n",
      " 6   multiple_lines         3943 non-null   int64  \n",
      " 7   online_security        3943 non-null   int64  \n",
      " 8   online_backup          3943 non-null   int64  \n",
      " 9   device_protection      3943 non-null   int64  \n",
      " 10  tech_support           3943 non-null   int64  \n",
      " 11  streaming_tv           3943 non-null   int64  \n",
      " 12  streaming_movies       3943 non-null   int64  \n",
      " 13  paperless_billing      3943 non-null   int64  \n",
      " 14  monthly_charges        3943 non-null   float64\n",
      " 15  total_charges          3943 non-null   float64\n",
      " 16  churn                  3943 non-null   int64  \n",
      " 17  contract_type          3943 non-null   object \n",
      " 18  internet_service_type  3943 non-null   object \n",
      " 19  payment_type           3943 non-null   object \n",
      " 20  is_female              3943 non-null   int64  \n",
      " 21  is_auto_pay            3943 non-null   int64  \n",
      " 22  dsl                    3943 non-null   uint8  \n",
      " 23  fiber_optic            3943 non-null   uint8  \n",
      " 24  no_internet            3943 non-null   uint8  \n",
      " 25  monthly                3943 non-null   uint8  \n",
      " 26  one_year               3943 non-null   uint8  \n",
      " 27  two_year               3943 non-null   uint8  \n",
      " 28  bank_transfer          3943 non-null   uint8  \n",
      " 29  credit_card            3943 non-null   uint8  \n",
      " 30  electronic_check       3943 non-null   uint8  \n",
      " 31  mailed_check           3943 non-null   uint8  \n",
      "dtypes: float64(2), int64(16), object(4), uint8(10)\n",
      "memory usage: 747.0+ KB\n"
     ]
    }
   ],
   "source": [
    "train.info()"
   ]
  },
  {
   "cell_type": "markdown",
   "metadata": {},
   "source": [
    "# Data Exploration & Analysis\n",
    "\n",
    "Using train dataset for this stage\n",
    "\n",
    "- Determine drivers of churn\n",
    "- Visualize data\n",
    "- Run statistical tests\n",
    "- Set the baseline model"
   ]
  },
  {
   "cell_type": "markdown",
   "metadata": {},
   "source": [
    "## Create a baseline to compare models against "
   ]
  },
  {
   "cell_type": "code",
   "execution_count": 9,
   "metadata": {},
   "outputs": [
    {
     "data": {
      "text/plain": [
       "0    0.73472\n",
       "1    0.26528\n",
       "Name: churn, dtype: float64"
      ]
     },
     "execution_count": 9,
     "metadata": {},
     "output_type": "execute_result"
    }
   ],
   "source": [
    "# Overall churn rate\n",
    "\n",
    "train.churn.value_counts(normalize=True)"
   ]
  },
  {
   "cell_type": "code",
   "execution_count": 24,
   "metadata": {},
   "outputs": [
    {
     "data": {
      "image/png": "[encoded data removed]",
      "text/plain": [
       "<Figure size 432x288 with 1 Axes>"
      ]
     },
     "metadata": {
      "needs_background": "light"
     },
     "output_type": "display_data"
    }
   ],
   "source": [
    "# Visualization at the overall churn rate.\n",
    "\n",
    "train.churn.value_counts().sort_index().plot.bar(color={'#EDB120','#4DBEEE'})\n",
    "churn_rate = train.churn.mean()\n",
    "plt.title(f'Overall churn rate: {churn_rate:.2%}')\n",
    "plt.xlabel('churn')\n",
    "plt.xticks(rotation = 0) \n",
    "plt.show()"
   ]
  },
  {
   "cell_type": "markdown",
   "metadata": {},
   "source": [
    "Accuracy should be higher than 73% when testing models for rate of churn"
   ]
  },
  {
   "cell_type": "markdown",
   "metadata": {},
   "source": [
    "## Compare rate of churn against tenure length"
   ]
  },
  {
   "cell_type": "code",
   "execution_count": 25,
   "metadata": {},
   "outputs": [],
   "source": [
    "# Create new column 'tenure_year'\n",
    "\n",
    "explore_df = train\n",
    "explore_df['tenure_year'] = round(explore_df.tenure / 12)"
   ]
  },
  {
   "cell_type": "code",
   "execution_count": 26,
   "metadata": {},
   "outputs": [
    {
     "data": {
      "text/plain": [
       "0    0.545957\n",
       "1    0.454043\n",
       "Name: churn, dtype: float64"
      ]
     },
     "execution_count": 26,
     "metadata": {},
     "output_type": "execute_result"
    }
   ],
   "source": [
    "# Rate of churn for customers that have 1 year or less of tenure \n",
    "\n",
    "mask1 = explore_df.tenure_year <= 1\n",
    "one_year = explore_df[mask1]\n",
    "one_year.churn.value_counts(normalize=True)"
   ]
  },
  {
   "cell_type": "code",
   "execution_count": 27,
   "metadata": {},
   "outputs": [
    {
     "data": {
      "text/plain": [
       "0    0.767888\n",
       "1    0.232112\n",
       "Name: churn, dtype: float64"
      ]
     },
     "execution_count": 27,
     "metadata": {},
     "output_type": "execute_result"
    }
   ],
   "source": [
    "# Rate of churn for customers that have 2 years of tenure\n",
    "\n",
    "mask2 = (explore_df.tenure_year > 1) & (explore_df.tenure_year <= 2)\n",
    "two_years = explore_df[mask2]\n",
    "two_years.churn.value_counts(normalize=True)"
   ]
  },
  {
   "cell_type": "code",
   "execution_count": 28,
   "metadata": {},
   "outputs": [
    {
     "data": {
      "text/plain": [
       "0    0.77193\n",
       "1    0.22807\n",
       "Name: churn, dtype: float64"
      ]
     },
     "execution_count": 28,
     "metadata": {},
     "output_type": "execute_result"
    }
   ],
   "source": [
    "# Rate of churn for customers that have 3 years of tenure\n",
    "\n",
    "mask3 = (explore_df.tenure_year > 2) & (explore_df.tenure_year <= 3)\n",
    "three_years = explore_df[mask3]\n",
    "three_years.churn.value_counts(normalize=True)"
   ]
  },
  {
   "cell_type": "code",
   "execution_count": 29,
   "metadata": {},
   "outputs": [
    {
     "data": {
      "text/plain": [
       "0    0.891732\n",
       "1    0.108268\n",
       "Name: churn, dtype: float64"
      ]
     },
     "execution_count": 29,
     "metadata": {},
     "output_type": "execute_result"
    }
   ],
   "source": [
    "# Rate of churn for customers that have greater than 3 years of tenure\n",
    "\n",
    "mask4 = (explore_df.tenure_year > 3)\n",
    "more_years = explore_df[mask4]\n",
    "more_years.churn.value_counts(normalize=True)"
   ]
  },
  {
   "cell_type": "markdown",
   "metadata": {},
   "source": [
    "Takeaway:\n",
    "- As tenure increases, churn decreases\n",
    "- Largest rate of churn was found in 1 year or less"
   ]
  },
  {
   "cell_type": "markdown",
   "metadata": {},
   "source": [
    "## Visualization for comparison"
   ]
  },
  {
   "cell_type": "markdown",
   "metadata": {},
   "source": [
    "Can monthly charges also be an indicator if someone churns? \n",
    "- It appears customers that have higher monthly charges churn more often"
   ]
  },
  {
   "cell_type": "code",
   "execution_count": 102,
   "metadata": {},
   "outputs": [
    {
     "data": {
      "image/png": "[encoded data removed]",
      "text/plain": [
       "<Figure size 1008x504 with 1 Axes>"
      ]
     },
     "metadata": {
      "needs_background": "light"
     },
     "output_type": "display_data"
    }
   ],
   "source": [
    "sns.barplot(x = 'churn', y = 'monthly_charges', data = train)\n",
    "plt.title('Monthly charges vs. Churn rate')\n",
    "plt.show()"
   ]
  },
  {
   "cell_type": "markdown",
   "metadata": {},
   "source": [
    "Is payment type an indicator if someone churns? \n",
    "- It appears customers that are using an automatic payment type is less likely to churn"
   ]
  },
  {
   "cell_type": "code",
   "execution_count": 103,
   "metadata": {},
   "outputs": [
    {
     "data": {
      "image/png": "[encoded data removed]",
      "text/plain": [
       "<Figure size 1008x504 with 1 Axes>"
      ]
     },
     "metadata": {
      "needs_background": "light"
     },
     "output_type": "display_data"
    }
   ],
   "source": [
    "sns.barplot(x = 'churn', y = 'is_auto_pay', data = train)\n",
    "plt.title('Automatic payment vs. Churn rate')\n",
    "plt.show()"
   ]
  },
  {
   "cell_type": "markdown",
   "metadata": {},
   "source": [
    "Is contract type type an indicator if someone churns?\n",
    "- Contract types also showing a visble rate of churn variable"
   ]
  },
  {
   "cell_type": "code",
   "execution_count": 105,
   "metadata": {},
   "outputs": [
    {
     "data": {
      "image/png": "[encoded data removed]",
      "text/plain": [
       "<Figure size 1008x504 with 1 Axes>"
      ]
     },
     "metadata": {
      "needs_background": "light"
     },
     "output_type": "display_data"
    }
   ],
   "source": [
    "sns.barplot(x = 'contract_type', y = 'monthly_charges', hue = 'churn', data = train)\n",
    "plt.title('Contract type w/ Monthly charges')\n",
    "plt.show()"
   ]
  },
  {
   "cell_type": "code",
   "execution_count": 106,
   "metadata": {},
   "outputs": [
    {
     "data": {
      "image/png": "[encoded data removed]",
      "text/plain": [
       "<Figure size 1008x504 with 1 Axes>"
      ]
     },
     "metadata": {
      "needs_background": "light"
     },
     "output_type": "display_data"
    }
   ],
   "source": [
    "sns.barplot(x = 'contract_type', y = 'is_auto_pay', hue = 'churn', data = train)\n",
    "plt.title('Automatic payment w/ Contract type')\n",
    "plt.show()"
   ]
  },
  {
   "cell_type": "markdown",
   "metadata": {},
   "source": [
    "Looking into the automatic payment type, customers that churn more often do not have an automatic payment type."
   ]
  },
  {
   "cell_type": "code",
   "execution_count": 107,
   "metadata": {},
   "outputs": [
    {
     "data": {
      "image/png": "[encoded data removed]",
      "text/plain": [
       "<Figure size 1008x504 with 1 Axes>"
      ]
     },
     "metadata": {
      "needs_background": "light"
     },
     "output_type": "display_data"
    }
   ],
   "source": [
    "plt.rc('figure', figsize=(14, 7))\n",
    "plt.rc('font', size=12)\n",
    "\n",
    "sns.swarmplot(x = 'is_auto_pay', y = 'monthly_charges', data = train, hue = 'churn')\n",
    "plt.xlabel('Automatic Payment Use - 1=Yes')\n",
    "plt.ylabel('Monthly Charges')\n",
    "plt.title('Automatic payment w/ Monthly Charges')\n",
    "plt.show()"
   ]
  },
  {
   "cell_type": "markdown",
   "metadata": {},
   "source": [
    "Takeaway:\n",
    "- Need to run a statistical test to validate if automatic payment type is a driver of churn"
   ]
  },
  {
   "cell_type": "markdown",
   "metadata": {},
   "source": [
    "Heatmap to show correlation between variables and whether or not they churned?"
   ]
  },
  {
   "cell_type": "code",
   "execution_count": 43,
   "metadata": {
    "scrolled": false
   },
   "outputs": [
    {
     "data": {
      "image/png": "[encoded data removed]",
      "text/plain": [
       "<Figure size 1008x504 with 2 Axes>"
      ]
     },
     "metadata": {
      "needs_background": "light"
     },
     "output_type": "display_data"
    }
   ],
   "source": [
    "heatmap_columns = ['tenure', 'phone_service', 'monthly_charges', 'electronic_check', 'monthly', 'one_year', \n",
    "                   'two_year', 'credit_card', 'partner', 'churn']\n",
    "\n",
    "corr = explore_df[heatmap_columns].corr()\n",
    "sns.heatmap(corr, annot=True, cmap='coolwarm')\n",
    "plt.show()"
   ]
  },
  {
   "cell_type": "markdown",
   "metadata": {},
   "source": [
    "**Takeaway:**\n",
    "- monthly_charges and electronic_check have high correlation with churn\n",
    "- credit_card was one of the lowest correlation with churn"
   ]
  },
  {
   "cell_type": "markdown",
   "metadata": {},
   "source": [
    "## Hypothesis and testing"
   ]
  },
  {
   "cell_type": "markdown",
   "metadata": {},
   "source": [
    "Hypothesis 1\n",
    "\n",
    "- $H_0$: There is no association between contract type and customer churn\n",
    "- $H_a$: There is a association between contract type and customer churn"
   ]
  },
  {
   "cell_type": "code",
   "execution_count": 44,
   "metadata": {},
   "outputs": [],
   "source": [
    "# set alpha\n",
    "\n",
    "alpha = 0.05"
   ]
  },
  {
   "cell_type": "code",
   "execution_count": 45,
   "metadata": {},
   "outputs": [
    {
     "data": {
      "text/html": [
       "<div>\n",
       "<style scoped>\n",
       "    .dataframe tbody tr th:only-of-type {\n",
       "        vertical-align: middle;\n",
       "    }\n",
       "\n",
       "    .dataframe tbody tr th {\n",
       "        vertical-align: top;\n",
       "    }\n",
       "\n",
       "    .dataframe thead th {\n",
       "        text-align: right;\n",
       "    }\n",
       "</style>\n",
       "<table border=\"1\" class=\"dataframe\">\n",
       "  <thead>\n",
       "    <tr style=\"text-align: right;\">\n",
       "      <th>contract_type</th>\n",
       "      <th>Month-to-month</th>\n",
       "      <th>One year</th>\n",
       "      <th>Two year</th>\n",
       "    </tr>\n",
       "    <tr>\n",
       "      <th>churn</th>\n",
       "      <th></th>\n",
       "      <th></th>\n",
       "      <th></th>\n",
       "    </tr>\n",
       "  </thead>\n",
       "  <tbody>\n",
       "    <tr>\n",
       "      <th>0</th>\n",
       "      <td>1234</td>\n",
       "      <td>723</td>\n",
       "      <td>940</td>\n",
       "    </tr>\n",
       "    <tr>\n",
       "      <th>1</th>\n",
       "      <td>928</td>\n",
       "      <td>84</td>\n",
       "      <td>34</td>\n",
       "    </tr>\n",
       "  </tbody>\n",
       "</table>\n",
       "</div>"
      ],
      "text/plain": [
       "contract_type  Month-to-month  One year  Two year\n",
       "churn                                            \n",
       "0                        1234       723       940\n",
       "1                         928        84        34"
      ]
     },
     "execution_count": 45,
     "metadata": {},
     "output_type": "execute_result"
    }
   ],
   "source": [
    "# Create crosstab\n",
    "\n",
    "crosstab = pd.crosstab(explore_df.churn, explore_df.contract_type)\n",
    "crosstab"
   ]
  },
  {
   "cell_type": "code",
   "execution_count": 46,
   "metadata": {},
   "outputs": [
    {
     "name": "stdout",
     "output_type": "stream",
     "text": [
      "The p-value is: 2.008e-146\n",
      "The chi2 value is: 671.0\n",
      "We reject the null hypothesis\n"
     ]
    }
   ],
   "source": [
    "# contingency table test - chi^2 test\n",
    "\n",
    "chi2, p, degf, expected = stats.chi2_contingency(crosstab)\n",
    "\n",
    "print(f'The p-value is: {p:.4}')\n",
    "print(f'The chi2 value is: {chi2:.4}')\n",
    "\n",
    "if p < alpha:\n",
    "    print(\"We reject the null hypothesis\")\n",
    "else:\n",
    "    print(\"We fail to reject the null hypothesis\")"
   ]
  },
  {
   "cell_type": "markdown",
   "metadata": {},
   "source": [
    "**Hypothesis Test 1 Result**\n",
    "- We rejected the null hypothesis, indicating there is some relationship between contract type and churn."
   ]
  },
  {
   "cell_type": "markdown",
   "metadata": {},
   "source": [
    "Hypothesis 2\n",
    "\n",
    "- $H_0$: There is no association between automatic payment type and customer churn.\n",
    "- $H_a$: There is a association between automatic payment type and customer churn."
   ]
  },
  {
   "cell_type": "code",
   "execution_count": 47,
   "metadata": {},
   "outputs": [],
   "source": [
    "# set alpha\n",
    "\n",
    "alpha = 0.05"
   ]
  },
  {
   "cell_type": "code",
   "execution_count": 48,
   "metadata": {},
   "outputs": [
    {
     "data": {
      "text/html": [
       "<div>\n",
       "<style scoped>\n",
       "    .dataframe tbody tr th:only-of-type {\n",
       "        vertical-align: middle;\n",
       "    }\n",
       "\n",
       "    .dataframe tbody tr th {\n",
       "        vertical-align: top;\n",
       "    }\n",
       "\n",
       "    .dataframe thead th {\n",
       "        text-align: right;\n",
       "    }\n",
       "</style>\n",
       "<table border=\"1\" class=\"dataframe\">\n",
       "  <thead>\n",
       "    <tr style=\"text-align: right;\">\n",
       "      <th>is_auto_pay</th>\n",
       "      <th>0</th>\n",
       "      <th>1</th>\n",
       "    </tr>\n",
       "    <tr>\n",
       "      <th>churn</th>\n",
       "      <th></th>\n",
       "      <th></th>\n",
       "    </tr>\n",
       "  </thead>\n",
       "  <tbody>\n",
       "    <tr>\n",
       "      <th>0</th>\n",
       "      <td>1450</td>\n",
       "      <td>1447</td>\n",
       "    </tr>\n",
       "    <tr>\n",
       "      <th>1</th>\n",
       "      <td>762</td>\n",
       "      <td>284</td>\n",
       "    </tr>\n",
       "  </tbody>\n",
       "</table>\n",
       "</div>"
      ],
      "text/plain": [
       "is_auto_pay     0     1\n",
       "churn                  \n",
       "0            1450  1447\n",
       "1             762   284"
      ]
     },
     "execution_count": 48,
     "metadata": {},
     "output_type": "execute_result"
    }
   ],
   "source": [
    "# Create crosstab2\n",
    "\n",
    "crosstab2 = pd.crosstab(explore_df.churn, explore_df.is_auto_pay)\n",
    "crosstab2"
   ]
  },
  {
   "cell_type": "code",
   "execution_count": 49,
   "metadata": {},
   "outputs": [
    {
     "name": "stdout",
     "output_type": "stream",
     "text": [
      "p-value is: 6.028e-37\n",
      "chi2 value is: 161.3\n",
      "We reject the null hypothesis\n"
     ]
    }
   ],
   "source": [
    "# contingency table test - chi^2 test\n",
    "\n",
    "chi2, p, degf, expected = stats.chi2_contingency(crosstab2)\n",
    "\n",
    "print(f'p-value is: {p:.4}')\n",
    "print(f'chi2 value is: {chi2:.4}')\n",
    "\n",
    "if p < alpha:\n",
    "    print(\"We reject the null hypothesis\")\n",
    "else:\n",
    "    print(\"We fail to reject the null hypothesis\")"
   ]
  },
  {
   "cell_type": "markdown",
   "metadata": {},
   "source": [
    "**Hypothesis Test 2 Result:**\n",
    "- We rejected the null hypothesis, indicating there is some relationship between automatic payment type and churn."
   ]
  },
  {
   "cell_type": "markdown",
   "metadata": {},
   "source": [
    "# Modeling and Evaluation"
   ]
  },
  {
   "cell_type": "markdown",
   "metadata": {},
   "source": [
    "Using logistic regression, decision tree, and random forest models."
   ]
  },
  {
   "cell_type": "markdown",
   "metadata": {},
   "source": [
    "Baseline is at 73%"
   ]
  },
  {
   "cell_type": "markdown",
   "metadata": {},
   "source": [
    "**Define the features (X-variable) and target (churn). Features used from visualizations and statistical testing**"
   ]
  },
  {
   "cell_type": "code",
   "execution_count": 50,
   "metadata": {},
   "outputs": [],
   "source": [
    "X_cols = ['is_auto_pay', 'monthly', 'one_year', 'two_year', 'monthly_charges', 'total_charges']\n",
    "y_col = 'churn'\n",
    "\n",
    "X_train, y_train = train[X_cols], train[y_col]\n",
    "X_validate, y_validate = validate[X_cols], validate[y_col]\n",
    "X_test, y_test = test[X_cols], test[y_col]"
   ]
  },
  {
   "cell_type": "markdown",
   "metadata": {},
   "source": [
    "## Train"
   ]
  },
  {
   "cell_type": "markdown",
   "metadata": {},
   "source": [
    "### Model 1: Logistic Regression"
   ]
  },
  {
   "cell_type": "code",
   "execution_count": 100,
   "metadata": {},
   "outputs": [
    {
     "name": "stdout",
     "output_type": "stream",
     "text": [
      "Model 1 accuracy score: 78.95%\n"
     ]
    }
   ],
   "source": [
    "# Create the model\n",
    "logit = LogisticRegression(C = 1.0, random_state=123)\n",
    "\n",
    "# Fit the model\n",
    "logit.fit(X_train, y_train)\n",
    "\n",
    "# Use the model\n",
    "y_pred1 = logit.predict(X_train)\n",
    "\n",
    "# Probability of churning\n",
    "y_pred_prob1 = logit.predict_proba(X_train)\n",
    "\n",
    "print(f'Model 1 accuracy score: {logit.score(X_train, y_train):.2%}')"
   ]
  },
  {
   "cell_type": "code",
   "execution_count": 77,
   "metadata": {},
   "outputs": [
    {
     "data": {
      "text/html": [
       "<div>\n",
       "<style scoped>\n",
       "    .dataframe tbody tr th:only-of-type {\n",
       "        vertical-align: middle;\n",
       "    }\n",
       "\n",
       "    .dataframe tbody tr th {\n",
       "        vertical-align: top;\n",
       "    }\n",
       "\n",
       "    .dataframe thead th {\n",
       "        text-align: right;\n",
       "    }\n",
       "</style>\n",
       "<table border=\"1\" class=\"dataframe\">\n",
       "  <thead>\n",
       "    <tr style=\"text-align: right;\">\n",
       "      <th></th>\n",
       "      <th>0</th>\n",
       "      <th>1</th>\n",
       "      <th>accuracy</th>\n",
       "      <th>macro avg</th>\n",
       "      <th>weighted avg</th>\n",
       "    </tr>\n",
       "  </thead>\n",
       "  <tbody>\n",
       "    <tr>\n",
       "      <th>precision</th>\n",
       "      <td>0.829455</td>\n",
       "      <td>0.633995</td>\n",
       "      <td>0.7895</td>\n",
       "      <td>0.731725</td>\n",
       "      <td>0.777603</td>\n",
       "    </tr>\n",
       "    <tr>\n",
       "      <th>recall</th>\n",
       "      <td>0.898171</td>\n",
       "      <td>0.488528</td>\n",
       "      <td>0.7895</td>\n",
       "      <td>0.693349</td>\n",
       "      <td>0.789500</td>\n",
       "    </tr>\n",
       "    <tr>\n",
       "      <th>f1-score</th>\n",
       "      <td>0.862446</td>\n",
       "      <td>0.551836</td>\n",
       "      <td>0.7895</td>\n",
       "      <td>0.707141</td>\n",
       "      <td>0.780047</td>\n",
       "    </tr>\n",
       "    <tr>\n",
       "      <th>support</th>\n",
       "      <td>2897.000000</td>\n",
       "      <td>1046.000000</td>\n",
       "      <td>0.7895</td>\n",
       "      <td>3943.000000</td>\n",
       "      <td>3943.000000</td>\n",
       "    </tr>\n",
       "  </tbody>\n",
       "</table>\n",
       "</div>"
      ],
      "text/plain": [
       "                     0            1  accuracy    macro avg  weighted avg\n",
       "precision     0.829455     0.633995    0.7895     0.731725      0.777603\n",
       "recall        0.898171     0.488528    0.7895     0.693349      0.789500\n",
       "f1-score      0.862446     0.551836    0.7895     0.707141      0.780047\n",
       "support    2897.000000  1046.000000    0.7895  3943.000000   3943.000000"
      ]
     },
     "execution_count": 77,
     "metadata": {},
     "output_type": "execute_result"
    }
   ],
   "source": [
    "model_1 = pd.DataFrame(classification_report(train.churn, y_pred1, output_dict=True))\n",
    "model_1"
   ]
  },
  {
   "cell_type": "markdown",
   "metadata": {},
   "source": [
    "Takeaway:\n",
    "- Model 1 performed better than the baseline 73%, with an accuracy of 79%"
   ]
  },
  {
   "cell_type": "markdown",
   "metadata": {},
   "source": [
    "### Model 2: Decision Tree"
   ]
  },
  {
   "cell_type": "code",
   "execution_count": 78,
   "metadata": {},
   "outputs": [
    {
     "name": "stdout",
     "output_type": "stream",
     "text": [
      "Model 2 accuracy score: 79.51%\n"
     ]
    }
   ],
   "source": [
    "# Create the model\n",
    "dt = DecisionTreeClassifier(max_depth=5, random_state=123)\n",
    "\n",
    "# Fit the model\n",
    "dt.fit(X_train, y_train)\n",
    "\n",
    "# Use the model\n",
    "y_pred2 = dt.predict(X_train)\n",
    "\n",
    "# Probability of churning\n",
    "y_pred_prob2 = dt.predict_proba(X_train)\n",
    "\n",
    "print(f'Model 2 accuracy score: {dt.score(X_train, y_train):.2%}')"
   ]
  },
  {
   "cell_type": "code",
   "execution_count": 79,
   "metadata": {},
   "outputs": [
    {
     "data": {
      "text/html": [
       "<div>\n",
       "<style scoped>\n",
       "    .dataframe tbody tr th:only-of-type {\n",
       "        vertical-align: middle;\n",
       "    }\n",
       "\n",
       "    .dataframe tbody tr th {\n",
       "        vertical-align: top;\n",
       "    }\n",
       "\n",
       "    .dataframe thead th {\n",
       "        text-align: right;\n",
       "    }\n",
       "</style>\n",
       "<table border=\"1\" class=\"dataframe\">\n",
       "  <thead>\n",
       "    <tr style=\"text-align: right;\">\n",
       "      <th></th>\n",
       "      <th>0</th>\n",
       "      <th>1</th>\n",
       "      <th>accuracy</th>\n",
       "      <th>macro avg</th>\n",
       "      <th>weighted avg</th>\n",
       "    </tr>\n",
       "  </thead>\n",
       "  <tbody>\n",
       "    <tr>\n",
       "      <th>precision</th>\n",
       "      <td>0.836393</td>\n",
       "      <td>0.642005</td>\n",
       "      <td>0.79508</td>\n",
       "      <td>0.739199</td>\n",
       "      <td>0.784826</td>\n",
       "    </tr>\n",
       "    <tr>\n",
       "      <th>recall</th>\n",
       "      <td>0.896445</td>\n",
       "      <td>0.514340</td>\n",
       "      <td>0.79508</td>\n",
       "      <td>0.705392</td>\n",
       "      <td>0.795080</td>\n",
       "    </tr>\n",
       "    <tr>\n",
       "      <th>f1-score</th>\n",
       "      <td>0.865378</td>\n",
       "      <td>0.571125</td>\n",
       "      <td>0.79508</td>\n",
       "      <td>0.718252</td>\n",
       "      <td>0.787319</td>\n",
       "    </tr>\n",
       "    <tr>\n",
       "      <th>support</th>\n",
       "      <td>2897.000000</td>\n",
       "      <td>1046.000000</td>\n",
       "      <td>0.79508</td>\n",
       "      <td>3943.000000</td>\n",
       "      <td>3943.000000</td>\n",
       "    </tr>\n",
       "  </tbody>\n",
       "</table>\n",
       "</div>"
      ],
      "text/plain": [
       "                     0            1  accuracy    macro avg  weighted avg\n",
       "precision     0.836393     0.642005   0.79508     0.739199      0.784826\n",
       "recall        0.896445     0.514340   0.79508     0.705392      0.795080\n",
       "f1-score      0.865378     0.571125   0.79508     0.718252      0.787319\n",
       "support    2897.000000  1046.000000   0.79508  3943.000000   3943.000000"
      ]
     },
     "execution_count": 79,
     "metadata": {},
     "output_type": "execute_result"
    }
   ],
   "source": [
    "model_2 = pd.DataFrame(classification_report(train.churn, y_pred2, output_dict=True))\n",
    "model_2"
   ]
  },
  {
   "cell_type": "markdown",
   "metadata": {},
   "source": [
    "**Takeaways:**\n",
    "- Accuracy is slightly higher than logistic regression model\n",
    "- Recall is slightly higher"
   ]
  },
  {
   "cell_type": "markdown",
   "metadata": {},
   "source": [
    "### Model 3: Random Forest"
   ]
  },
  {
   "cell_type": "code",
   "execution_count": 80,
   "metadata": {},
   "outputs": [
    {
     "name": "stdout",
     "output_type": "stream",
     "text": [
      "Model 3 accuracy score: 83.31%\n"
     ]
    }
   ],
   "source": [
    "# Create the model\n",
    "rf = RandomForestClassifier(bootstrap=True, min_samples_leaf=10, n_estimators=100, max_depth=20, random_state=123)\n",
    "\n",
    "# Fit the model\n",
    "rf.fit(X_train, y_train)\n",
    "\n",
    "# Use the model\n",
    "y_pred3 = rf.predict(X_train)\n",
    "\n",
    "# Probability of churning\n",
    "y_pred_prob3 = rf.predict_proba(X_train)\n",
    "\n",
    "print(f'Model 3 accuracy score: {rf.score(X_train, y_train):.2%}')"
   ]
  },
  {
   "cell_type": "code",
   "execution_count": 81,
   "metadata": {},
   "outputs": [
    {
     "data": {
      "text/html": [
       "<div>\n",
       "<style scoped>\n",
       "    .dataframe tbody tr th:only-of-type {\n",
       "        vertical-align: middle;\n",
       "    }\n",
       "\n",
       "    .dataframe tbody tr th {\n",
       "        vertical-align: top;\n",
       "    }\n",
       "\n",
       "    .dataframe thead th {\n",
       "        text-align: right;\n",
       "    }\n",
       "</style>\n",
       "<table border=\"1\" class=\"dataframe\">\n",
       "  <thead>\n",
       "    <tr style=\"text-align: right;\">\n",
       "      <th></th>\n",
       "      <th>0</th>\n",
       "      <th>1</th>\n",
       "      <th>accuracy</th>\n",
       "      <th>macro avg</th>\n",
       "      <th>weighted avg</th>\n",
       "    </tr>\n",
       "  </thead>\n",
       "  <tbody>\n",
       "    <tr>\n",
       "      <th>precision</th>\n",
       "      <td>0.856642</td>\n",
       "      <td>0.741294</td>\n",
       "      <td>0.833122</td>\n",
       "      <td>0.798968</td>\n",
       "      <td>0.826043</td>\n",
       "    </tr>\n",
       "    <tr>\n",
       "      <th>recall</th>\n",
       "      <td>0.928202</td>\n",
       "      <td>0.569790</td>\n",
       "      <td>0.833122</td>\n",
       "      <td>0.748996</td>\n",
       "      <td>0.833122</td>\n",
       "    </tr>\n",
       "    <tr>\n",
       "      <th>f1-score</th>\n",
       "      <td>0.890987</td>\n",
       "      <td>0.644324</td>\n",
       "      <td>0.833122</td>\n",
       "      <td>0.767656</td>\n",
       "      <td>0.825553</td>\n",
       "    </tr>\n",
       "    <tr>\n",
       "      <th>support</th>\n",
       "      <td>2897.000000</td>\n",
       "      <td>1046.000000</td>\n",
       "      <td>0.833122</td>\n",
       "      <td>3943.000000</td>\n",
       "      <td>3943.000000</td>\n",
       "    </tr>\n",
       "  </tbody>\n",
       "</table>\n",
       "</div>"
      ],
      "text/plain": [
       "                     0            1  accuracy    macro avg  weighted avg\n",
       "precision     0.856642     0.741294  0.833122     0.798968      0.826043\n",
       "recall        0.928202     0.569790  0.833122     0.748996      0.833122\n",
       "f1-score      0.890987     0.644324  0.833122     0.767656      0.825553\n",
       "support    2897.000000  1046.000000  0.833122  3943.000000   3943.000000"
      ]
     },
     "execution_count": 81,
     "metadata": {},
     "output_type": "execute_result"
    }
   ],
   "source": [
    "model_3 = pd.DataFrame(classification_report(train.churn, y_pred3, output_dict=True))\n",
    "model_3"
   ]
  },
  {
   "cell_type": "markdown",
   "metadata": {},
   "source": [
    "Takeaway:\n",
    "- Performs better on all metrics than previous two models"
   ]
  },
  {
   "cell_type": "markdown",
   "metadata": {},
   "source": [
    "## Validate"
   ]
  },
  {
   "cell_type": "markdown",
   "metadata": {},
   "source": [
    "Using the top two performing models, **decision tree and random forest**. Will apply them to the validate dataset. This will help determine which one that should used on the test dataset."
   ]
  },
  {
   "cell_type": "markdown",
   "metadata": {},
   "source": [
    "### Decision Tree Validation"
   ]
  },
  {
   "cell_type": "code",
   "execution_count": 82,
   "metadata": {},
   "outputs": [
    {
     "name": "stdout",
     "output_type": "stream",
     "text": [
      "Decision Tree accuracy score: 77.41%\n"
     ]
    }
   ],
   "source": [
    "# Use the model to create predictions\n",
    "y_pred_validate1 = dt.predict(X_validate)\n",
    "\n",
    "# Probability of churning\n",
    "y_pred_prob_validate1 = dt.predict_proba(X_validate)\n",
    "\n",
    "print(f'Decision Tree accuracy score: {dt.score(X_validate, y_validate):.2%}')"
   ]
  },
  {
   "cell_type": "code",
   "execution_count": 83,
   "metadata": {},
   "outputs": [
    {
     "data": {
      "text/html": [
       "<div>\n",
       "<style scoped>\n",
       "    .dataframe tbody tr th:only-of-type {\n",
       "        vertical-align: middle;\n",
       "    }\n",
       "\n",
       "    .dataframe tbody tr th {\n",
       "        vertical-align: top;\n",
       "    }\n",
       "\n",
       "    .dataframe thead th {\n",
       "        text-align: right;\n",
       "    }\n",
       "</style>\n",
       "<table border=\"1\" class=\"dataframe\">\n",
       "  <thead>\n",
       "    <tr style=\"text-align: right;\">\n",
       "      <th></th>\n",
       "      <th>0</th>\n",
       "      <th>1</th>\n",
       "      <th>accuracy</th>\n",
       "      <th>macro avg</th>\n",
       "      <th>weighted avg</th>\n",
       "    </tr>\n",
       "  </thead>\n",
       "  <tbody>\n",
       "    <tr>\n",
       "      <th>precision</th>\n",
       "      <td>0.818991</td>\n",
       "      <td>0.597668</td>\n",
       "      <td>0.774098</td>\n",
       "      <td>0.708329</td>\n",
       "      <td>0.760225</td>\n",
       "    </tr>\n",
       "    <tr>\n",
       "      <th>recall</th>\n",
       "      <td>0.888889</td>\n",
       "      <td>0.456570</td>\n",
       "      <td>0.774098</td>\n",
       "      <td>0.672730</td>\n",
       "      <td>0.774098</td>\n",
       "    </tr>\n",
       "    <tr>\n",
       "      <th>f1-score</th>\n",
       "      <td>0.852510</td>\n",
       "      <td>0.517677</td>\n",
       "      <td>0.774098</td>\n",
       "      <td>0.685093</td>\n",
       "      <td>0.763604</td>\n",
       "    </tr>\n",
       "    <tr>\n",
       "      <th>support</th>\n",
       "      <td>1242.000000</td>\n",
       "      <td>449.000000</td>\n",
       "      <td>0.774098</td>\n",
       "      <td>1691.000000</td>\n",
       "      <td>1691.000000</td>\n",
       "    </tr>\n",
       "  </tbody>\n",
       "</table>\n",
       "</div>"
      ],
      "text/plain": [
       "                     0           1  accuracy    macro avg  weighted avg\n",
       "precision     0.818991    0.597668  0.774098     0.708329      0.760225\n",
       "recall        0.888889    0.456570  0.774098     0.672730      0.774098\n",
       "f1-score      0.852510    0.517677  0.774098     0.685093      0.763604\n",
       "support    1242.000000  449.000000  0.774098  1691.000000   1691.000000"
      ]
     },
     "execution_count": 83,
     "metadata": {},
     "output_type": "execute_result"
    }
   ],
   "source": [
    "model_dt = pd.DataFrame(classification_report(validate.churn, y_pred_validate1, output_dict=True))\n",
    "model_dt"
   ]
  },
  {
   "cell_type": "markdown",
   "metadata": {},
   "source": [
    "### Random Forest Validation"
   ]
  },
  {
   "cell_type": "code",
   "execution_count": 84,
   "metadata": {},
   "outputs": [
    {
     "name": "stdout",
     "output_type": "stream",
     "text": [
      "Random Forest accuracy score: 78.65%\n"
     ]
    }
   ],
   "source": [
    "# Use the model to create predictions\n",
    "y_pred_validate2 = rf.predict(X_validate)\n",
    "\n",
    "# Probability of churning\n",
    "y_pred_prob_validate2 = rf.predict_proba(X_validate)\n",
    "\n",
    "print(f'Random Forest accuracy score: {rf.score(X_validate, y_validate):.2%}')"
   ]
  },
  {
   "cell_type": "code",
   "execution_count": 85,
   "metadata": {},
   "outputs": [
    {
     "data": {
      "text/html": [
       "<div>\n",
       "<style scoped>\n",
       "    .dataframe tbody tr th:only-of-type {\n",
       "        vertical-align: middle;\n",
       "    }\n",
       "\n",
       "    .dataframe tbody tr th {\n",
       "        vertical-align: top;\n",
       "    }\n",
       "\n",
       "    .dataframe thead th {\n",
       "        text-align: right;\n",
       "    }\n",
       "</style>\n",
       "<table border=\"1\" class=\"dataframe\">\n",
       "  <thead>\n",
       "    <tr style=\"text-align: right;\">\n",
       "      <th></th>\n",
       "      <th>0</th>\n",
       "      <th>1</th>\n",
       "      <th>accuracy</th>\n",
       "      <th>macro avg</th>\n",
       "      <th>weighted avg</th>\n",
       "    </tr>\n",
       "  </thead>\n",
       "  <tbody>\n",
       "    <tr>\n",
       "      <th>precision</th>\n",
       "      <td>0.823659</td>\n",
       "      <td>0.633333</td>\n",
       "      <td>0.786517</td>\n",
       "      <td>0.728496</td>\n",
       "      <td>0.773123</td>\n",
       "    </tr>\n",
       "    <tr>\n",
       "      <th>recall</th>\n",
       "      <td>0.902576</td>\n",
       "      <td>0.465479</td>\n",
       "      <td>0.786517</td>\n",
       "      <td>0.684028</td>\n",
       "      <td>0.786517</td>\n",
       "    </tr>\n",
       "    <tr>\n",
       "      <th>f1-score</th>\n",
       "      <td>0.861314</td>\n",
       "      <td>0.536585</td>\n",
       "      <td>0.786517</td>\n",
       "      <td>0.698950</td>\n",
       "      <td>0.775091</td>\n",
       "    </tr>\n",
       "    <tr>\n",
       "      <th>support</th>\n",
       "      <td>1242.000000</td>\n",
       "      <td>449.000000</td>\n",
       "      <td>0.786517</td>\n",
       "      <td>1691.000000</td>\n",
       "      <td>1691.000000</td>\n",
       "    </tr>\n",
       "  </tbody>\n",
       "</table>\n",
       "</div>"
      ],
      "text/plain": [
       "                     0           1  accuracy    macro avg  weighted avg\n",
       "precision     0.823659    0.633333  0.786517     0.728496      0.773123\n",
       "recall        0.902576    0.465479  0.786517     0.684028      0.786517\n",
       "f1-score      0.861314    0.536585  0.786517     0.698950      0.775091\n",
       "support    1242.000000  449.000000  0.786517  1691.000000   1691.000000"
      ]
     },
     "execution_count": 85,
     "metadata": {},
     "output_type": "execute_result"
    }
   ],
   "source": [
    "model_rf = pd.DataFrame(classification_report(validate.churn, y_pred_validate2, output_dict=True))\n",
    "model_rf"
   ]
  },
  {
   "cell_type": "markdown",
   "metadata": {},
   "source": [
    "Takeaway:\n",
    "- Performance between these two models are similar in the validate stage\n",
    "- Decision tree accuracy lowered 2 percentage points from 79.5 to 77.4, while random forest lowered 5 percentage points from 83.3 to 78.6"
   ]
  },
  {
   "cell_type": "markdown",
   "metadata": {},
   "source": [
    "## Test"
   ]
  },
  {
   "cell_type": "markdown",
   "metadata": {},
   "source": [
    "The decision tree model has the lowest drop percentage in accuracy between train and validat. Will be running the decision tree model through the test dataset"
   ]
  },
  {
   "cell_type": "code",
   "execution_count": 86,
   "metadata": {},
   "outputs": [
    {
     "name": "stdout",
     "output_type": "stream",
     "text": [
      "Test model accuracy score: 78.85%\n"
     ]
    }
   ],
   "source": [
    "# Use the model to create predictions\n",
    "\n",
    "y_pred_test = dt.predict(X_test)\n",
    "\n",
    "# Probability of churning\n",
    "\n",
    "y_pred_prob_test = dt.predict_proba(X_test)\n",
    "\n",
    "print(f'Test model accuracy score: {dt.score(X_test, y_test):.2%}')"
   ]
  },
  {
   "cell_type": "code",
   "execution_count": 87,
   "metadata": {},
   "outputs": [
    {
     "data": {
      "text/html": [
       "<div>\n",
       "<style scoped>\n",
       "    .dataframe tbody tr th:only-of-type {\n",
       "        vertical-align: middle;\n",
       "    }\n",
       "\n",
       "    .dataframe tbody tr th {\n",
       "        vertical-align: top;\n",
       "    }\n",
       "\n",
       "    .dataframe thead th {\n",
       "        text-align: right;\n",
       "    }\n",
       "</style>\n",
       "<table border=\"1\" class=\"dataframe\">\n",
       "  <thead>\n",
       "    <tr style=\"text-align: right;\">\n",
       "      <th></th>\n",
       "      <th>0</th>\n",
       "      <th>1</th>\n",
       "      <th>accuracy</th>\n",
       "      <th>macro avg</th>\n",
       "      <th>weighted avg</th>\n",
       "    </tr>\n",
       "  </thead>\n",
       "  <tbody>\n",
       "    <tr>\n",
       "      <th>precision</th>\n",
       "      <td>0.838384</td>\n",
       "      <td>0.618750</td>\n",
       "      <td>0.788502</td>\n",
       "      <td>0.728567</td>\n",
       "      <td>0.780085</td>\n",
       "    </tr>\n",
       "    <tr>\n",
       "      <th>recall</th>\n",
       "      <td>0.882126</td>\n",
       "      <td>0.529412</td>\n",
       "      <td>0.788502</td>\n",
       "      <td>0.705769</td>\n",
       "      <td>0.788502</td>\n",
       "    </tr>\n",
       "    <tr>\n",
       "      <th>f1-score</th>\n",
       "      <td>0.859699</td>\n",
       "      <td>0.570605</td>\n",
       "      <td>0.788502</td>\n",
       "      <td>0.715152</td>\n",
       "      <td>0.782963</td>\n",
       "    </tr>\n",
       "    <tr>\n",
       "      <th>support</th>\n",
       "      <td>1035.000000</td>\n",
       "      <td>374.000000</td>\n",
       "      <td>0.788502</td>\n",
       "      <td>1409.000000</td>\n",
       "      <td>1409.000000</td>\n",
       "    </tr>\n",
       "  </tbody>\n",
       "</table>\n",
       "</div>"
      ],
      "text/plain": [
       "                     0           1  accuracy    macro avg  weighted avg\n",
       "precision     0.838384    0.618750  0.788502     0.728567      0.780085\n",
       "recall        0.882126    0.529412  0.788502     0.705769      0.788502\n",
       "f1-score      0.859699    0.570605  0.788502     0.715152      0.782963\n",
       "support    1035.000000  374.000000  0.788502  1409.000000   1409.000000"
      ]
     },
     "execution_count": 87,
     "metadata": {},
     "output_type": "execute_result"
    }
   ],
   "source": [
    "test_model = pd.DataFrame(classification_report(test.churn, y_pred_test, output_dict=True))\n",
    "test_model"
   ]
  },
  {
   "cell_type": "markdown",
   "metadata": {},
   "source": [
    "How the test model did by looking at the confusion matrix"
   ]
  },
  {
   "cell_type": "code",
   "execution_count": 88,
   "metadata": {},
   "outputs": [
    {
     "data": {
      "text/html": [
       "<div>\n",
       "<style scoped>\n",
       "    .dataframe tbody tr th:only-of-type {\n",
       "        vertical-align: middle;\n",
       "    }\n",
       "\n",
       "    .dataframe tbody tr th {\n",
       "        vertical-align: top;\n",
       "    }\n",
       "\n",
       "    .dataframe thead th {\n",
       "        text-align: right;\n",
       "    }\n",
       "</style>\n",
       "<table border=\"1\" class=\"dataframe\">\n",
       "  <thead>\n",
       "    <tr style=\"text-align: right;\">\n",
       "      <th>col_0</th>\n",
       "      <th>0</th>\n",
       "      <th>1</th>\n",
       "      <th>All</th>\n",
       "    </tr>\n",
       "    <tr>\n",
       "      <th>churn</th>\n",
       "      <th></th>\n",
       "      <th></th>\n",
       "      <th></th>\n",
       "    </tr>\n",
       "  </thead>\n",
       "  <tbody>\n",
       "    <tr>\n",
       "      <th>0</th>\n",
       "      <td>0.647977</td>\n",
       "      <td>0.086586</td>\n",
       "      <td>0.734564</td>\n",
       "    </tr>\n",
       "    <tr>\n",
       "      <th>1</th>\n",
       "      <td>0.124911</td>\n",
       "      <td>0.140525</td>\n",
       "      <td>0.265436</td>\n",
       "    </tr>\n",
       "    <tr>\n",
       "      <th>All</th>\n",
       "      <td>0.772889</td>\n",
       "      <td>0.227111</td>\n",
       "      <td>1.000000</td>\n",
       "    </tr>\n",
       "  </tbody>\n",
       "</table>\n",
       "</div>"
      ],
      "text/plain": [
       "col_0         0         1       All\n",
       "churn                              \n",
       "0      0.647977  0.086586  0.734564\n",
       "1      0.124911  0.140525  0.265436\n",
       "All    0.772889  0.227111  1.000000"
      ]
     },
     "execution_count": 88,
     "metadata": {},
     "output_type": "execute_result"
    }
   ],
   "source": [
    "pd.crosstab(test.churn, y_pred_test, margins=True, normalize=True)"
   ]
  },
  {
   "cell_type": "markdown",
   "metadata": {},
   "source": [
    "## Predicting rate of churn"
   ]
  },
  {
   "cell_type": "code",
   "execution_count": 89,
   "metadata": {},
   "outputs": [],
   "source": [
    "# making .csv file containing the test sample with predictions from chosen model"
   ]
  },
  {
   "cell_type": "code",
   "execution_count": 90,
   "metadata": {},
   "outputs": [],
   "source": [
    "#reset the index\n",
    "\n",
    "reset_test = test.reset_index()"
   ]
  },
  {
   "cell_type": "code",
   "execution_count": 91,
   "metadata": {},
   "outputs": [],
   "source": [
    "test_proba_df = pd.DataFrame(y_pred_prob_test, columns=['no_churn', 'churn_prob'])"
   ]
  },
  {
   "cell_type": "code",
   "execution_count": 92,
   "metadata": {},
   "outputs": [
    {
     "data": {
      "text/html": [
       "<div>\n",
       "<style scoped>\n",
       "    .dataframe tbody tr th:only-of-type {\n",
       "        vertical-align: middle;\n",
       "    }\n",
       "\n",
       "    .dataframe tbody tr th {\n",
       "        vertical-align: top;\n",
       "    }\n",
       "\n",
       "    .dataframe thead th {\n",
       "        text-align: right;\n",
       "    }\n",
       "</style>\n",
       "<table border=\"1\" class=\"dataframe\">\n",
       "  <thead>\n",
       "    <tr style=\"text-align: right;\">\n",
       "      <th></th>\n",
       "      <th>no_churn</th>\n",
       "      <th>churn_prob</th>\n",
       "    </tr>\n",
       "  </thead>\n",
       "  <tbody>\n",
       "    <tr>\n",
       "      <th>0</th>\n",
       "      <td>1.000000</td>\n",
       "      <td>0.000000</td>\n",
       "    </tr>\n",
       "    <tr>\n",
       "      <th>1</th>\n",
       "      <td>0.736842</td>\n",
       "      <td>0.263158</td>\n",
       "    </tr>\n",
       "    <tr>\n",
       "      <th>2</th>\n",
       "      <td>0.596154</td>\n",
       "      <td>0.403846</td>\n",
       "    </tr>\n",
       "    <tr>\n",
       "      <th>3</th>\n",
       "      <td>1.000000</td>\n",
       "      <td>0.000000</td>\n",
       "    </tr>\n",
       "    <tr>\n",
       "      <th>4</th>\n",
       "      <td>0.485437</td>\n",
       "      <td>0.514563</td>\n",
       "    </tr>\n",
       "    <tr>\n",
       "      <th>...</th>\n",
       "      <td>...</td>\n",
       "      <td>...</td>\n",
       "    </tr>\n",
       "    <tr>\n",
       "      <th>1404</th>\n",
       "      <td>0.838710</td>\n",
       "      <td>0.161290</td>\n",
       "    </tr>\n",
       "    <tr>\n",
       "      <th>1405</th>\n",
       "      <td>0.048387</td>\n",
       "      <td>0.951613</td>\n",
       "    </tr>\n",
       "    <tr>\n",
       "      <th>1406</th>\n",
       "      <td>0.981728</td>\n",
       "      <td>0.018272</td>\n",
       "    </tr>\n",
       "    <tr>\n",
       "      <th>1407</th>\n",
       "      <td>0.914286</td>\n",
       "      <td>0.085714</td>\n",
       "    </tr>\n",
       "    <tr>\n",
       "      <th>1408</th>\n",
       "      <td>0.485437</td>\n",
       "      <td>0.514563</td>\n",
       "    </tr>\n",
       "  </tbody>\n",
       "</table>\n",
       "<p>1409 rows × 2 columns</p>\n",
       "</div>"
      ],
      "text/plain": [
       "      no_churn  churn_prob\n",
       "0     1.000000    0.000000\n",
       "1     0.736842    0.263158\n",
       "2     0.596154    0.403846\n",
       "3     1.000000    0.000000\n",
       "4     0.485437    0.514563\n",
       "...        ...         ...\n",
       "1404  0.838710    0.161290\n",
       "1405  0.048387    0.951613\n",
       "1406  0.981728    0.018272\n",
       "1407  0.914286    0.085714\n",
       "1408  0.485437    0.514563\n",
       "\n",
       "[1409 rows x 2 columns]"
      ]
     },
     "execution_count": 92,
     "metadata": {},
     "output_type": "execute_result"
    }
   ],
   "source": [
    "test_proba_df"
   ]
  },
  {
   "cell_type": "code",
   "execution_count": 93,
   "metadata": {},
   "outputs": [],
   "source": [
    "# concatenate reset test and test probabilities\n",
    "\n",
    "test_proba_df = pd.concat([reset_test, test_proba_df['churn_prob']], axis=1)"
   ]
  },
  {
   "cell_type": "code",
   "execution_count": 94,
   "metadata": {},
   "outputs": [],
   "source": [
    "test_proba_df['predicted'] = y_pred_test"
   ]
  },
  {
   "cell_type": "code",
   "execution_count": 95,
   "metadata": {},
   "outputs": [
    {
     "data": {
      "text/html": [
       "<div>\n",
       "<style scoped>\n",
       "    .dataframe tbody tr th:only-of-type {\n",
       "        vertical-align: middle;\n",
       "    }\n",
       "\n",
       "    .dataframe tbody tr th {\n",
       "        vertical-align: top;\n",
       "    }\n",
       "\n",
       "    .dataframe thead th {\n",
       "        text-align: right;\n",
       "    }\n",
       "</style>\n",
       "<table border=\"1\" class=\"dataframe\">\n",
       "  <thead>\n",
       "    <tr style=\"text-align: right;\">\n",
       "      <th></th>\n",
       "      <th>index</th>\n",
       "      <th>customer_id</th>\n",
       "      <th>senior_citizen</th>\n",
       "      <th>partner</th>\n",
       "      <th>dependents</th>\n",
       "      <th>tenure</th>\n",
       "      <th>phone_service</th>\n",
       "      <th>multiple_lines</th>\n",
       "      <th>online_security</th>\n",
       "      <th>online_backup</th>\n",
       "      <th>...</th>\n",
       "      <th>no_internet</th>\n",
       "      <th>monthly</th>\n",
       "      <th>one_year</th>\n",
       "      <th>two_year</th>\n",
       "      <th>bank_transfer</th>\n",
       "      <th>credit_card</th>\n",
       "      <th>electronic_check</th>\n",
       "      <th>mailed_check</th>\n",
       "      <th>churn_prob</th>\n",
       "      <th>predicted</th>\n",
       "    </tr>\n",
       "  </thead>\n",
       "  <tbody>\n",
       "    <tr>\n",
       "      <th>0</th>\n",
       "      <td>2789</td>\n",
       "      <td>8670-ERCJH</td>\n",
       "      <td>0</td>\n",
       "      <td>0</td>\n",
       "      <td>0</td>\n",
       "      <td>72</td>\n",
       "      <td>1</td>\n",
       "      <td>1</td>\n",
       "      <td>1</td>\n",
       "      <td>1</td>\n",
       "      <td>...</td>\n",
       "      <td>0</td>\n",
       "      <td>0</td>\n",
       "      <td>0</td>\n",
       "      <td>1</td>\n",
       "      <td>1</td>\n",
       "      <td>0</td>\n",
       "      <td>0</td>\n",
       "      <td>0</td>\n",
       "      <td>0.000000</td>\n",
       "      <td>0</td>\n",
       "    </tr>\n",
       "    <tr>\n",
       "      <th>1</th>\n",
       "      <td>1233</td>\n",
       "      <td>0356-ERHVT</td>\n",
       "      <td>0</td>\n",
       "      <td>1</td>\n",
       "      <td>0</td>\n",
       "      <td>11</td>\n",
       "      <td>1</td>\n",
       "      <td>0</td>\n",
       "      <td>0</td>\n",
       "      <td>0</td>\n",
       "      <td>...</td>\n",
       "      <td>0</td>\n",
       "      <td>1</td>\n",
       "      <td>0</td>\n",
       "      <td>0</td>\n",
       "      <td>1</td>\n",
       "      <td>0</td>\n",
       "      <td>0</td>\n",
       "      <td>0</td>\n",
       "      <td>0.263158</td>\n",
       "      <td>0</td>\n",
       "    </tr>\n",
       "    <tr>\n",
       "      <th>2</th>\n",
       "      <td>6784</td>\n",
       "      <td>4786-UKSNZ</td>\n",
       "      <td>0</td>\n",
       "      <td>0</td>\n",
       "      <td>0</td>\n",
       "      <td>1</td>\n",
       "      <td>1</td>\n",
       "      <td>0</td>\n",
       "      <td>0</td>\n",
       "      <td>0</td>\n",
       "      <td>...</td>\n",
       "      <td>1</td>\n",
       "      <td>1</td>\n",
       "      <td>0</td>\n",
       "      <td>0</td>\n",
       "      <td>0</td>\n",
       "      <td>0</td>\n",
       "      <td>0</td>\n",
       "      <td>1</td>\n",
       "      <td>0.403846</td>\n",
       "      <td>0</td>\n",
       "    </tr>\n",
       "    <tr>\n",
       "      <th>3</th>\n",
       "      <td>3177</td>\n",
       "      <td>5945-AZYHT</td>\n",
       "      <td>0</td>\n",
       "      <td>1</td>\n",
       "      <td>0</td>\n",
       "      <td>71</td>\n",
       "      <td>1</td>\n",
       "      <td>1</td>\n",
       "      <td>1</td>\n",
       "      <td>1</td>\n",
       "      <td>...</td>\n",
       "      <td>0</td>\n",
       "      <td>0</td>\n",
       "      <td>1</td>\n",
       "      <td>0</td>\n",
       "      <td>0</td>\n",
       "      <td>0</td>\n",
       "      <td>1</td>\n",
       "      <td>0</td>\n",
       "      <td>0.000000</td>\n",
       "      <td>0</td>\n",
       "    </tr>\n",
       "    <tr>\n",
       "      <th>4</th>\n",
       "      <td>1740</td>\n",
       "      <td>4432-ADRLB</td>\n",
       "      <td>0</td>\n",
       "      <td>0</td>\n",
       "      <td>0</td>\n",
       "      <td>2</td>\n",
       "      <td>1</td>\n",
       "      <td>0</td>\n",
       "      <td>0</td>\n",
       "      <td>0</td>\n",
       "      <td>...</td>\n",
       "      <td>0</td>\n",
       "      <td>1</td>\n",
       "      <td>0</td>\n",
       "      <td>0</td>\n",
       "      <td>0</td>\n",
       "      <td>0</td>\n",
       "      <td>0</td>\n",
       "      <td>1</td>\n",
       "      <td>0.514563</td>\n",
       "      <td>1</td>\n",
       "    </tr>\n",
       "    <tr>\n",
       "      <th>...</th>\n",
       "      <td>...</td>\n",
       "      <td>...</td>\n",
       "      <td>...</td>\n",
       "      <td>...</td>\n",
       "      <td>...</td>\n",
       "      <td>...</td>\n",
       "      <td>...</td>\n",
       "      <td>...</td>\n",
       "      <td>...</td>\n",
       "      <td>...</td>\n",
       "      <td>...</td>\n",
       "      <td>...</td>\n",
       "      <td>...</td>\n",
       "      <td>...</td>\n",
       "      <td>...</td>\n",
       "      <td>...</td>\n",
       "      <td>...</td>\n",
       "      <td>...</td>\n",
       "      <td>...</td>\n",
       "      <td>...</td>\n",
       "      <td>...</td>\n",
       "    </tr>\n",
       "    <tr>\n",
       "      <th>1404</th>\n",
       "      <td>1900</td>\n",
       "      <td>5650-VDUDS</td>\n",
       "      <td>0</td>\n",
       "      <td>0</td>\n",
       "      <td>0</td>\n",
       "      <td>4</td>\n",
       "      <td>0</td>\n",
       "      <td>0</td>\n",
       "      <td>0</td>\n",
       "      <td>0</td>\n",
       "      <td>...</td>\n",
       "      <td>0</td>\n",
       "      <td>1</td>\n",
       "      <td>0</td>\n",
       "      <td>0</td>\n",
       "      <td>0</td>\n",
       "      <td>0</td>\n",
       "      <td>0</td>\n",
       "      <td>1</td>\n",
       "      <td>0.161290</td>\n",
       "      <td>0</td>\n",
       "    </tr>\n",
       "    <tr>\n",
       "      <th>1405</th>\n",
       "      <td>5451</td>\n",
       "      <td>9725-SCPZG</td>\n",
       "      <td>0</td>\n",
       "      <td>0</td>\n",
       "      <td>1</td>\n",
       "      <td>1</td>\n",
       "      <td>1</td>\n",
       "      <td>0</td>\n",
       "      <td>0</td>\n",
       "      <td>0</td>\n",
       "      <td>...</td>\n",
       "      <td>0</td>\n",
       "      <td>1</td>\n",
       "      <td>0</td>\n",
       "      <td>0</td>\n",
       "      <td>0</td>\n",
       "      <td>0</td>\n",
       "      <td>1</td>\n",
       "      <td>0</td>\n",
       "      <td>0.951613</td>\n",
       "      <td>1</td>\n",
       "    </tr>\n",
       "    <tr>\n",
       "      <th>1406</th>\n",
       "      <td>6142</td>\n",
       "      <td>9764-REAFF</td>\n",
       "      <td>0</td>\n",
       "      <td>1</td>\n",
       "      <td>0</td>\n",
       "      <td>59</td>\n",
       "      <td>1</td>\n",
       "      <td>0</td>\n",
       "      <td>0</td>\n",
       "      <td>0</td>\n",
       "      <td>...</td>\n",
       "      <td>1</td>\n",
       "      <td>0</td>\n",
       "      <td>0</td>\n",
       "      <td>1</td>\n",
       "      <td>1</td>\n",
       "      <td>0</td>\n",
       "      <td>0</td>\n",
       "      <td>0</td>\n",
       "      <td>0.018272</td>\n",
       "      <td>0</td>\n",
       "    </tr>\n",
       "    <tr>\n",
       "      <th>1407</th>\n",
       "      <td>2186</td>\n",
       "      <td>7964-YESJC</td>\n",
       "      <td>0</td>\n",
       "      <td>1</td>\n",
       "      <td>0</td>\n",
       "      <td>24</td>\n",
       "      <td>1</td>\n",
       "      <td>1</td>\n",
       "      <td>1</td>\n",
       "      <td>1</td>\n",
       "      <td>...</td>\n",
       "      <td>0</td>\n",
       "      <td>1</td>\n",
       "      <td>0</td>\n",
       "      <td>0</td>\n",
       "      <td>0</td>\n",
       "      <td>0</td>\n",
       "      <td>0</td>\n",
       "      <td>1</td>\n",
       "      <td>0.085714</td>\n",
       "      <td>0</td>\n",
       "    </tr>\n",
       "    <tr>\n",
       "      <th>1408</th>\n",
       "      <td>1789</td>\n",
       "      <td>4797-AXPXK</td>\n",
       "      <td>0</td>\n",
       "      <td>0</td>\n",
       "      <td>1</td>\n",
       "      <td>1</td>\n",
       "      <td>1</td>\n",
       "      <td>0</td>\n",
       "      <td>1</td>\n",
       "      <td>1</td>\n",
       "      <td>...</td>\n",
       "      <td>0</td>\n",
       "      <td>1</td>\n",
       "      <td>0</td>\n",
       "      <td>0</td>\n",
       "      <td>0</td>\n",
       "      <td>0</td>\n",
       "      <td>1</td>\n",
       "      <td>0</td>\n",
       "      <td>0.514563</td>\n",
       "      <td>1</td>\n",
       "    </tr>\n",
       "  </tbody>\n",
       "</table>\n",
       "<p>1409 rows × 35 columns</p>\n",
       "</div>"
      ],
      "text/plain": [
       "      index customer_id  senior_citizen  partner  dependents  tenure  \\\n",
       "0      2789  8670-ERCJH               0        0           0      72   \n",
       "1      1233  0356-ERHVT               0        1           0      11   \n",
       "2      6784  4786-UKSNZ               0        0           0       1   \n",
       "3      3177  5945-AZYHT               0        1           0      71   \n",
       "4      1740  4432-ADRLB               0        0           0       2   \n",
       "...     ...         ...             ...      ...         ...     ...   \n",
       "1404   1900  5650-VDUDS               0        0           0       4   \n",
       "1405   5451  9725-SCPZG               0        0           1       1   \n",
       "1406   6142  9764-REAFF               0        1           0      59   \n",
       "1407   2186  7964-YESJC               0        1           0      24   \n",
       "1408   1789  4797-AXPXK               0        0           1       1   \n",
       "\n",
       "      phone_service  multiple_lines  online_security  online_backup  ...  \\\n",
       "0                 1               1                1              1  ...   \n",
       "1                 1               0                0              0  ...   \n",
       "2                 1               0                0              0  ...   \n",
       "3                 1               1                1              1  ...   \n",
       "4                 1               0                0              0  ...   \n",
       "...             ...             ...              ...            ...  ...   \n",
       "1404              0               0                0              0  ...   \n",
       "1405              1               0                0              0  ...   \n",
       "1406              1               0                0              0  ...   \n",
       "1407              1               1                1              1  ...   \n",
       "1408              1               0                1              1  ...   \n",
       "\n",
       "      no_internet  monthly  one_year  two_year  bank_transfer  credit_card  \\\n",
       "0               0        0         0         1              1            0   \n",
       "1               0        1         0         0              1            0   \n",
       "2               1        1         0         0              0            0   \n",
       "3               0        0         1         0              0            0   \n",
       "4               0        1         0         0              0            0   \n",
       "...           ...      ...       ...       ...            ...          ...   \n",
       "1404            0        1         0         0              0            0   \n",
       "1405            0        1         0         0              0            0   \n",
       "1406            1        0         0         1              1            0   \n",
       "1407            0        1         0         0              0            0   \n",
       "1408            0        1         0         0              0            0   \n",
       "\n",
       "      electronic_check  mailed_check churn_prob predicted  \n",
       "0                    0             0   0.000000         0  \n",
       "1                    0             0   0.263158         0  \n",
       "2                    0             1   0.403846         0  \n",
       "3                    1             0   0.000000         0  \n",
       "4                    0             1   0.514563         1  \n",
       "...                ...           ...        ...       ...  \n",
       "1404                 0             1   0.161290         0  \n",
       "1405                 1             0   0.951613         1  \n",
       "1406                 0             0   0.018272         0  \n",
       "1407                 0             1   0.085714         0  \n",
       "1408                 1             0   0.514563         1  \n",
       "\n",
       "[1409 rows x 35 columns]"
      ]
     },
     "execution_count": 95,
     "metadata": {},
     "output_type": "execute_result"
    }
   ],
   "source": [
    "test_proba_df"
   ]
  },
  {
   "cell_type": "code",
   "execution_count": 96,
   "metadata": {},
   "outputs": [],
   "source": [
    "# create new dataframe with 3 columns\n",
    "\n",
    "csv = test_proba_df[['customer_id', 'predicted', 'churn_prob']]"
   ]
  },
  {
   "cell_type": "code",
   "execution_count": 97,
   "metadata": {},
   "outputs": [
    {
     "data": {
      "text/html": [
       "<div>\n",
       "<style scoped>\n",
       "    .dataframe tbody tr th:only-of-type {\n",
       "        vertical-align: middle;\n",
       "    }\n",
       "\n",
       "    .dataframe tbody tr th {\n",
       "        vertical-align: top;\n",
       "    }\n",
       "\n",
       "    .dataframe thead th {\n",
       "        text-align: right;\n",
       "    }\n",
       "</style>\n",
       "<table border=\"1\" class=\"dataframe\">\n",
       "  <thead>\n",
       "    <tr style=\"text-align: right;\">\n",
       "      <th></th>\n",
       "      <th>customer_id</th>\n",
       "      <th>predicted</th>\n",
       "      <th>churn_prob</th>\n",
       "    </tr>\n",
       "  </thead>\n",
       "  <tbody>\n",
       "    <tr>\n",
       "      <th>0</th>\n",
       "      <td>8670-ERCJH</td>\n",
       "      <td>0</td>\n",
       "      <td>0.000000</td>\n",
       "    </tr>\n",
       "    <tr>\n",
       "      <th>1</th>\n",
       "      <td>0356-ERHVT</td>\n",
       "      <td>0</td>\n",
       "      <td>0.263158</td>\n",
       "    </tr>\n",
       "    <tr>\n",
       "      <th>2</th>\n",
       "      <td>4786-UKSNZ</td>\n",
       "      <td>0</td>\n",
       "      <td>0.403846</td>\n",
       "    </tr>\n",
       "    <tr>\n",
       "      <th>3</th>\n",
       "      <td>5945-AZYHT</td>\n",
       "      <td>0</td>\n",
       "      <td>0.000000</td>\n",
       "    </tr>\n",
       "    <tr>\n",
       "      <th>4</th>\n",
       "      <td>4432-ADRLB</td>\n",
       "      <td>1</td>\n",
       "      <td>0.514563</td>\n",
       "    </tr>\n",
       "    <tr>\n",
       "      <th>...</th>\n",
       "      <td>...</td>\n",
       "      <td>...</td>\n",
       "      <td>...</td>\n",
       "    </tr>\n",
       "    <tr>\n",
       "      <th>1404</th>\n",
       "      <td>5650-VDUDS</td>\n",
       "      <td>0</td>\n",
       "      <td>0.161290</td>\n",
       "    </tr>\n",
       "    <tr>\n",
       "      <th>1405</th>\n",
       "      <td>9725-SCPZG</td>\n",
       "      <td>1</td>\n",
       "      <td>0.951613</td>\n",
       "    </tr>\n",
       "    <tr>\n",
       "      <th>1406</th>\n",
       "      <td>9764-REAFF</td>\n",
       "      <td>0</td>\n",
       "      <td>0.018272</td>\n",
       "    </tr>\n",
       "    <tr>\n",
       "      <th>1407</th>\n",
       "      <td>7964-YESJC</td>\n",
       "      <td>0</td>\n",
       "      <td>0.085714</td>\n",
       "    </tr>\n",
       "    <tr>\n",
       "      <th>1408</th>\n",
       "      <td>4797-AXPXK</td>\n",
       "      <td>1</td>\n",
       "      <td>0.514563</td>\n",
       "    </tr>\n",
       "  </tbody>\n",
       "</table>\n",
       "<p>1409 rows × 3 columns</p>\n",
       "</div>"
      ],
      "text/plain": [
       "     customer_id  predicted  churn_prob\n",
       "0     8670-ERCJH          0    0.000000\n",
       "1     0356-ERHVT          0    0.263158\n",
       "2     4786-UKSNZ          0    0.403846\n",
       "3     5945-AZYHT          0    0.000000\n",
       "4     4432-ADRLB          1    0.514563\n",
       "...          ...        ...         ...\n",
       "1404  5650-VDUDS          0    0.161290\n",
       "1405  9725-SCPZG          1    0.951613\n",
       "1406  9764-REAFF          0    0.018272\n",
       "1407  7964-YESJC          0    0.085714\n",
       "1408  4797-AXPXK          1    0.514563\n",
       "\n",
       "[1409 rows x 3 columns]"
      ]
     },
     "execution_count": 97,
     "metadata": {},
     "output_type": "execute_result"
    }
   ],
   "source": [
    "csv"
   ]
  },
  {
   "cell_type": "code",
   "execution_count": 98,
   "metadata": {},
   "outputs": [],
   "source": [
    "# Write DataFrame to a csv for deliverable.\n",
    "\n",
    "csv.to_csv('telco_churn_predictions.csv')"
   ]
  },
  {
   "cell_type": "code",
   "execution_count": 99,
   "metadata": {},
   "outputs": [
    {
     "data": {
      "text/plain": [
       "0    1089\n",
       "1     320\n",
       "Name: predicted, dtype: int64"
      ]
     },
     "execution_count": 99,
     "metadata": {},
     "output_type": "execute_result"
    }
   ],
   "source": [
    "csv.predicted.value_counts()"
   ]
  },
  {
   "cell_type": "markdown",
   "metadata": {},
   "source": [
    "Model predicted 320 customers would churn out of the test dataset"
   ]
  },
  {
   "cell_type": "markdown",
   "metadata": {},
   "source": [
    "## Conclusions"
   ]
  },
  {
   "cell_type": "markdown",
   "metadata": {},
   "source": [
    "- The baseline model was set at 73%\n",
    "- Test model accuracy score: 78%\n",
    "- Decision tree model ran on the train, validate, and test datasets. This model consistently outperformed baseline\n",
    "- Model predicted 320 customers would churn out of the test dataset\n",
    "\n",
    "**Recommendations:** \n",
    "- Offer incentivise to enroll in automatic payment\n",
    "- Offer incentivise to enroll in a yearly contract\n",
    "- Work with marketing to test offers to increase retention, e.g. Special promo during customer cancelation\n",
    "- A/B channel testing\n",
    "- Work with UX to determine if the customer onboarding process simplifies the automatic payment types"
   ]
  },
  {
   "cell_type": "code",
   "execution_count": null,
   "metadata": {},
   "outputs": [],
   "source": []
  }
 ],
 "metadata": {
  "kernelspec": {
   "display_name": "Python 3",
   "language": "python",
   "name": "python3"
  },
  "language_info": {
   "codemirror_mode": {
    "name": "ipython",
    "version": 3
   },
   "file_extension": ".py",
   "mimetype": "text/x-python",
   "name": "python",
   "nbconvert_exporter": "python",
   "pygments_lexer": "ipython3",
   "version": "3.8.8"
  }
 },
 "nbformat": 4,
 "nbformat_minor": 4
}
